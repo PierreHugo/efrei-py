{
 "cells": [
  {
   "cell_type": "code",
   "execution_count": 141,
   "metadata": {},
   "outputs": [],
   "source": [
    "import pandas as pd\n",
    "\n",
    "# Charger le dataset\n",
    "file_path = \"telecom_churn.csv\"\n",
    "df = pd.read_csv(file_path)"
   ]
  },
  {
   "cell_type": "code",
   "execution_count": 142,
   "metadata": {},
   "outputs": [
    {
     "name": "stdout",
     "output_type": "stream",
     "text": [
      "Taille du dataframe :\n",
      "(3333, 21)\n"
     ]
    }
   ],
   "source": [
    "# 1. Afficher la taille du dataframe\n",
    "print(\"Taille du dataframe :\")\n",
    "print(df.shape)"
   ]
  },
  {
   "cell_type": "code",
   "execution_count": 143,
   "metadata": {},
   "outputs": [
    {
     "name": "stdout",
     "output_type": "stream",
     "text": [
      "\n",
      "Colonnes et informations du dataframe :\n",
      "<class 'pandas.core.frame.DataFrame'>\n",
      "RangeIndex: 3333 entries, 0 to 3332\n",
      "Data columns (total 21 columns):\n",
      " #   Column                  Non-Null Count  Dtype  \n",
      "---  ------                  --------------  -----  \n",
      " 0   state                   3333 non-null   object \n",
      " 1   account length          3333 non-null   int64  \n",
      " 2   area code               3333 non-null   int64  \n",
      " 3   phone number            3333 non-null   object \n",
      " 4   international plan      3333 non-null   object \n",
      " 5   voice mail plan         3333 non-null   object \n",
      " 6   number vmail messages   3333 non-null   int64  \n",
      " 7   total day minutes       3333 non-null   float64\n",
      " 8   total day calls         3333 non-null   int64  \n",
      " 9   total day charge        3333 non-null   float64\n",
      " 10  total eve minutes       3333 non-null   float64\n",
      " 11  total eve calls         3333 non-null   int64  \n",
      " 12  total eve charge        3333 non-null   float64\n",
      " 13  total night minutes     3333 non-null   float64\n",
      " 14  total night calls       3333 non-null   int64  \n",
      " 15  total night charge      3333 non-null   float64\n",
      " 16  total intl minutes      3333 non-null   float64\n",
      " 17  total intl calls        3333 non-null   int64  \n",
      " 18  total intl charge       3333 non-null   float64\n",
      " 19  customer service calls  3333 non-null   int64  \n",
      " 20  churn                   3333 non-null   bool   \n",
      "dtypes: bool(1), float64(8), int64(8), object(4)\n",
      "memory usage: 524.2+ KB\n",
      "None\n"
     ]
    }
   ],
   "source": [
    "# 2. Afficher les colonnes et les informations du dataframe\n",
    "print(\"\\nColonnes et informations du dataframe :\")\n",
    "print(df.info())"
   ]
  },
  {
   "cell_type": "code",
   "execution_count": 144,
   "metadata": {},
   "outputs": [
    {
     "name": "stdout",
     "output_type": "stream",
     "text": [
      "\n",
      "Type de la colonne 'churn' changé en entier.\n"
     ]
    }
   ],
   "source": [
    "# 3. Changer le type de la colonne 'churn' en entier\n",
    "if 'churn' in df.columns:\n",
    "    df['churn'] = df['churn'].astype(int)\n",
    "    print(\"\\nType de la colonne 'churn' changé en entier.\")"
   ]
  },
  {
   "cell_type": "code",
   "execution_count": 145,
   "metadata": {},
   "outputs": [
    {
     "name": "stdout",
     "output_type": "stream",
     "text": [
      "\n",
      "Statistiques des caractéristiques numériques :\n",
      "       account length    area code  number vmail messages  total day minutes  \\\n",
      "count     3333.000000  3333.000000            3333.000000        3333.000000   \n",
      "mean       101.064806   437.182418               8.099010         179.775098   \n",
      "std         39.822106    42.371290              13.688365          54.467389   \n",
      "min          1.000000   408.000000               0.000000           0.000000   \n",
      "25%         74.000000   408.000000               0.000000         143.700000   \n",
      "50%        101.000000   415.000000               0.000000         179.400000   \n",
      "75%        127.000000   510.000000              20.000000         216.400000   \n",
      "max        243.000000   510.000000              51.000000         350.800000   \n",
      "\n",
      "       total day calls  total day charge  total eve minutes  total eve calls  \\\n",
      "count      3333.000000       3333.000000        3333.000000      3333.000000   \n",
      "mean        100.435644         30.562307         200.980348       100.114311   \n",
      "std          20.069084          9.259435          50.713844        19.922625   \n",
      "min           0.000000          0.000000           0.000000         0.000000   \n",
      "25%          87.000000         24.430000         166.600000        87.000000   \n",
      "50%         101.000000         30.500000         201.400000       100.000000   \n",
      "75%         114.000000         36.790000         235.300000       114.000000   \n",
      "max         165.000000         59.640000         363.700000       170.000000   \n",
      "\n",
      "       total eve charge  total night minutes  total night calls  \\\n",
      "count       3333.000000          3333.000000        3333.000000   \n",
      "mean          17.083540           200.872037         100.107711   \n",
      "std            4.310668            50.573847          19.568609   \n",
      "min            0.000000            23.200000          33.000000   \n",
      "25%           14.160000           167.000000          87.000000   \n",
      "50%           17.120000           201.200000         100.000000   \n",
      "75%           20.000000           235.300000         113.000000   \n",
      "max           30.910000           395.000000         175.000000   \n",
      "\n",
      "       total night charge  total intl minutes  total intl calls  \\\n",
      "count         3333.000000         3333.000000       3333.000000   \n",
      "mean             9.039325           10.237294          4.479448   \n",
      "std              2.275873            2.791840          2.461214   \n",
      "min              1.040000            0.000000          0.000000   \n",
      "25%              7.520000            8.500000          3.000000   \n",
      "50%              9.050000           10.300000          4.000000   \n",
      "75%             10.590000           12.100000          6.000000   \n",
      "max             17.770000           20.000000         20.000000   \n",
      "\n",
      "       total intl charge  customer service calls        churn  \n",
      "count        3333.000000             3333.000000  3333.000000  \n",
      "mean            2.764581                1.562856     0.144914  \n",
      "std             0.753773                1.315491     0.352067  \n",
      "min             0.000000                0.000000     0.000000  \n",
      "25%             2.300000                1.000000     0.000000  \n",
      "50%             2.780000                1.000000     0.000000  \n",
      "75%             3.270000                2.000000     0.000000  \n",
      "max             5.400000                9.000000     1.000000  \n"
     ]
    }
   ],
   "source": [
    "# 4. Afficher les caractéristiques statistiques des colonnes numériques et non numériques\n",
    "print(\"\\nStatistiques des caractéristiques numériques :\")\n",
    "print(df.describe())\n"
   ]
  },
  {
   "cell_type": "code",
   "execution_count": 146,
   "metadata": {},
   "outputs": [
    {
     "name": "stdout",
     "output_type": "stream",
     "text": [
      "#################################################\n",
      "\n",
      "Statistiques des caractéristiques non numériques :\n",
      "       state phone number international plan voice mail plan\n",
      "count   3333         3333               3333            3333\n",
      "unique    51         3333                  2               2\n",
      "top       WV     400-4344                 no              no\n",
      "freq     106            1               3010            2411\n"
     ]
    }
   ],
   "source": [
    "print(\"#################################################\")\n",
    "print(\"\\nStatistiques des caractéristiques non numériques :\")\n",
    "print(df.describe(include=['object','bool']))"
   ]
  },
  {
   "cell_type": "code",
   "execution_count": 147,
   "metadata": {},
   "outputs": [
    {
     "name": "stdout",
     "output_type": "stream",
     "text": [
      "\n",
      "Distribution de 'churn' :\n",
      "churn\n",
      "0    2850\n",
      "1     483\n",
      "Name: count, dtype: int64\n"
     ]
    }
   ],
   "source": [
    "# 5. Afficher la distribution de churn\n",
    "if 'churn' in df.columns:\n",
    "    print(\"\\nDistribution de 'churn' :\")\n",
    "    print(df['churn'].value_counts())"
   ]
  },
  {
   "cell_type": "code",
   "execution_count": 148,
   "metadata": {},
   "outputs": [
    {
     "name": "stdout",
     "output_type": "stream",
     "text": [
      "\n",
      "Tri décroissant par 'Total day charges' :\n",
      "      total day charge\n",
      "365              59.64\n",
      "985              58.96\n",
      "2594             58.70\n",
      "156              57.36\n",
      "605              57.04\n"
     ]
    }
   ],
   "source": [
    "# 6. Faire le tri décroissant par Total des frais de jour\n",
    "if 'total day charge' in df.columns:\n",
    "    sorted_df = df.sort_values(by='total day charge', ascending=False)\n",
    "    print(\"\\nTri décroissant par 'Total day charges' :\")\n",
    "    print(sorted_df[['total day charge']].head())"
   ]
  },
  {
   "cell_type": "code",
   "execution_count": 149,
   "metadata": {},
   "outputs": [
    {
     "name": "stdout",
     "output_type": "stream",
     "text": [
      "\n",
      "Proportion d'utilisateurs ayant churné : 14.49%\n"
     ]
    }
   ],
   "source": [
    "# 7. Calculer la proportion d'utilisateurs qui ont churné\n",
    "if 'churn' in df.columns:\n",
    "    churn_rate = df['churn'].mean() * 100\n",
    "    print(f\"\\nProportion d'utilisateurs ayant churné : {churn_rate:.2f}%\")"
   ]
  },
  {
   "cell_type": "code",
   "execution_count": 150,
   "metadata": {},
   "outputs": [
    {
     "name": "stdout",
     "output_type": "stream",
     "text": [
      "Temps moyen au téléphone pendant la journée pour les utilisateurs qui ont churné : 206.91 minutes\n"
     ]
    }
   ],
   "source": [
    "# 8. Temps moyen au téléphone pendant la journée pour les utilisateurs qui ont churné\n",
    "if 'total day minutes' in df.columns and 'churn' in df.columns:\n",
    "    avg_day_minutes_churned = df[df['churn'] == 1]['total day minutes'].mean()\n",
    "    print(f\"Temps moyen au téléphone pendant la journée pour les utilisateurs qui ont churné : {avg_day_minutes_churned:.2f} minutes\")"
   ]
  },
  {
   "cell_type": "code",
   "execution_count": 151,
   "metadata": {},
   "outputs": [
    {
     "name": "stdout",
     "output_type": "stream",
     "text": [
      "Durée maximale des appels internationaux chez les utilisateurs fidèles sans forfait international : nan minutes\n"
     ]
    }
   ],
   "source": [
    "# 9. Durée maximale des appels internationaux chez les utilisateurs fidèles sans forfait international\n",
    "if 'churn' in df.columns and 'international plan' in df.columns and 'total intl minutes' in df.columns:\n",
    "    max_intl_minutes_loyal_no_plan = df[(df['churn'] == 0) & (df['international plan'] == False)]['total intl minutes'].max()\n",
    "    print(f\"Durée maximale des appels internationaux chez les utilisateurs fidèles sans forfait international : {max_intl_minutes_loyal_no_plan} minutes\")"
   ]
  },
  {
   "cell_type": "code",
   "execution_count": 152,
   "metadata": {},
   "outputs": [
    {
     "name": "stdout",
     "output_type": "stream",
     "text": [
      "\n",
      "Colonnes de 'state' à 'area code' :\n",
      "  state  account length  area code\n",
      "0    KS             128        415\n",
      "1    OH             107        415\n",
      "2    NJ             137        415\n",
      "3    OH              84        408\n",
      "4    OK              75        415\n"
     ]
    }
   ],
   "source": [
    "# 10. Afficher les colonnes de 'state' à 'area code' avec l'indexation par nom\n",
    "if 'state' in df.columns and 'area code' in df.columns:\n",
    "    selected_columns = df.loc[:, 'state':'area code']\n",
    "    print(\"\\nColonnes de 'state' à 'area code' :\")\n",
    "    print(selected_columns.head())"
   ]
  },
  {
   "cell_type": "code",
   "execution_count": 153,
   "metadata": {},
   "outputs": [
    {
     "name": "stdout",
     "output_type": "stream",
     "text": [
      "\n",
      "Dernière ligne du DataFrame :\n",
      "     state  account length  area code phone number international plan  \\\n",
      "3332    TN              74        415     400-4344                 no   \n",
      "\n",
      "     voice mail plan  number vmail messages  total day minutes  \\\n",
      "3332             yes                     25              234.4   \n",
      "\n",
      "      total day calls  total day charge  ...  total eve calls  \\\n",
      "3332              113             39.85  ...               82   \n",
      "\n",
      "      total eve charge  total night minutes  total night calls  \\\n",
      "3332              22.6                241.4                 77   \n",
      "\n",
      "      total night charge  total intl minutes  total intl calls  \\\n",
      "3332               10.86                13.7                 4   \n",
      "\n",
      "      total intl charge  customer service calls  churn  \n",
      "3332                3.7                       0      0  \n",
      "\n",
      "[1 rows x 21 columns]\n"
     ]
    }
   ],
   "source": [
    "# 11. Afficher la dernière ligne du DataFrame\n",
    "print(\"\\nDernière ligne du DataFrame :\")\n",
    "print(df.tail(1))"
   ]
  },
  {
   "cell_type": "code",
   "execution_count": 154,
   "metadata": {},
   "outputs": [
    {
     "name": "stdout",
     "output_type": "stream",
     "text": [
      "\n",
      "Les 5 premières lignes où 'state' se termine par 'V' :\n",
      "    state  account length  area code phone number international plan  \\\n",
      "9      WV             141        415     330-8173                yes   \n",
      "73     NV              90        415     399-4246                 no   \n",
      "80     WV             144        415     354-4577                 no   \n",
      "87     WV             111        510     412-9997                 no   \n",
      "117    NV              74        415     355-6837                 no   \n",
      "\n",
      "    voice mail plan  number vmail messages  total day minutes  \\\n",
      "9               yes                     37              258.6   \n",
      "73               no                      0              203.4   \n",
      "80               no                      0              201.1   \n",
      "87               no                      0              214.3   \n",
      "117              no                      0              282.5   \n",
      "\n",
      "     total day calls  total day charge  ...  total eve calls  \\\n",
      "9                 84             43.96  ...              111   \n",
      "73               146             34.58  ...              117   \n",
      "80                99             34.19  ...               74   \n",
      "87               118             36.43  ...               76   \n",
      "117              114             48.03  ...               48   \n",
      "\n",
      "     total eve charge  total night minutes  total night calls  \\\n",
      "9               18.87                326.4                 97   \n",
      "73              19.27                152.4                105   \n",
      "80              25.80                224.0                119   \n",
      "87              17.72                182.4                 98   \n",
      "117             18.69                170.0                115   \n",
      "\n",
      "     total night charge  total intl minutes  total intl calls  \\\n",
      "9                 14.69                11.2                 5   \n",
      "73                 6.86                 7.3                 4   \n",
      "80                10.08                13.2                 2   \n",
      "87                 8.21                12.0                 2   \n",
      "117                7.65                 9.4                 4   \n",
      "\n",
      "     total intl charge  customer service calls  churn  \n",
      "9                 3.02                       0      0  \n",
      "73                1.97                       1      0  \n",
      "80                3.56                       1      0  \n",
      "87                3.24                       1      0  \n",
      "117               2.54                       1      1  \n",
      "\n",
      "[5 rows x 21 columns]\n"
     ]
    }
   ],
   "source": [
    "# 12. Afficher les 5 premières lignes avec les éléments de state terminant par 'V'\n",
    "if 'state' in df.columns:\n",
    "    states_ending_with_v = df[df['state'].str.endswith('V', na=False)]\n",
    "    print(\"\\nLes 5 premières lignes où 'state' se termine par 'V' :\")\n",
    "    print(states_ending_with_v.head())"
   ]
  },
  {
   "cell_type": "code",
   "execution_count": 155,
   "metadata": {},
   "outputs": [
    {
     "name": "stdout",
     "output_type": "stream",
     "text": [
      "\n",
      "Colonne 'international plan' après remplacement :\n",
      "0    False\n",
      "1    False\n",
      "2    False\n",
      "3     True\n",
      "4     True\n",
      "Name: international plan, dtype: bool\n"
     ]
    }
   ],
   "source": [
    "# 13. Remplacer 'No' par False et 'Yes' par True dans la colonne 'international plan'\n",
    "if 'international plan' in df.columns:\n",
    "    df['international plan'] = df['international plan'].map({'no': False, 'yes': True})\n",
    "    print(\"\\nColonne 'international plan' après remplacement :\")\n",
    "    print(df['international plan'].head())\n"
   ]
  }
 ],
 "metadata": {
  "kernelspec": {
   "display_name": "Python 3",
   "language": "python",
   "name": "python3"
  },
  "language_info": {
   "codemirror_mode": {
    "name": "ipython",
    "version": 3
   },
   "file_extension": ".py",
   "mimetype": "text/x-python",
   "name": "python",
   "nbconvert_exporter": "python",
   "pygments_lexer": "ipython3",
   "version": "3.13.0"
  }
 },
 "nbformat": 4,
 "nbformat_minor": 2
}
