{
 "cells": [
  {
   "cell_type": "code",
   "execution_count": 7,
   "metadata": {},
   "outputs": [
    {
     "name": "stdout",
     "output_type": "stream",
     "text": [
      "Résumé statistique :\n",
      "        Unit price     Quantity       Tax 5%        Total        cogs  \\\n",
      "count  1000.000000  1000.000000  1000.000000  1000.000000  1000.00000   \n",
      "mean     55.672130     5.510000    15.379369   322.966749   307.58738   \n",
      "std      26.494628     2.923431    11.708825   245.885335   234.17651   \n",
      "min      10.080000     1.000000     0.508500    10.678500    10.17000   \n",
      "25%      32.875000     3.000000     5.924875   124.422375   118.49750   \n",
      "50%      55.230000     5.000000    12.088000   253.848000   241.76000   \n",
      "75%      77.935000     8.000000    22.445250   471.350250   448.90500   \n",
      "max      99.960000    10.000000    49.650000  1042.650000   993.00000   \n",
      "\n",
      "       gross margin percentage  gross income      Rating  \n",
      "count              1000.000000   1000.000000  1000.00000  \n",
      "mean                  4.761905     15.379369     6.97270  \n",
      "std                   0.000000     11.708825     1.71858  \n",
      "min                   4.761905      0.508500     4.00000  \n",
      "25%                   4.761905      5.924875     5.50000  \n",
      "50%                   4.761905     12.088000     7.00000  \n",
      "75%                   4.761905     22.445250     8.50000  \n",
      "max                   4.761905     49.650000    10.00000  \n"
     ]
    }
   ],
   "source": [
    "import pandas as pd\n",
    "\n",
    "file_path = \"supermarket_sales.csv\"\n",
    "df = pd.read_csv(file_path)\n",
    "\n",
    "print(\"Résumé statistique :\")\n",
    "print(df.describe())"
   ]
  },
  {
   "cell_type": "code",
   "execution_count": 8,
   "metadata": {},
   "outputs": [
    {
     "name": "stdout",
     "output_type": "stream",
     "text": [
      "\n",
      "Valeurs manquantes :\n",
      "Invoice ID                 0\n",
      "Branch                     0\n",
      "City                       0\n",
      "Customer type              0\n",
      "Gender                     0\n",
      "Product line               0\n",
      "Unit price                 0\n",
      "Quantity                   0\n",
      "Tax 5%                     0\n",
      "Total                      0\n",
      "Date                       0\n",
      "Time                       0\n",
      "Payment                    0\n",
      "cogs                       0\n",
      "gross margin percentage    0\n",
      "gross income               0\n",
      "Rating                     0\n",
      "dtype: int64\n"
     ]
    }
   ],
   "source": [
    "print(\"\\nValeurs manquantes :\")\n",
    "print(df.isnull().sum())\n",
    "\n",
    "df.fillna(df.mean(numeric_only=True), inplace=True)"
   ]
  },
  {
   "cell_type": "code",
   "execution_count": null,
   "metadata": {},
   "outputs": [
    {
     "name": "stdout",
     "output_type": "stream",
     "text": [
      "\n",
      "Chiffre d'affaires total par ville :\n",
      "City\n",
      "Mandalay     106197.6720\n",
      "Naypyitaw    110568.7065\n",
      "Yangon       106200.3705\n",
      "Name: Total, dtype: float64\n",
      "Ville avec les ventes les plus élevées : Naypyitaw\n"
     ]
    }
   ],
   "source": [
    "sales_by_city = df.groupby('City')['Total'].sum()\n",
    "top_city = sales_by_city.idxmax()\n",
    "print(\"\\nChiffre d'affaires total par ville :\")\n",
    "print(sales_by_city)\n",
    "print(f\"Ville avec les ventes les plus élevées : {top_city}\")"
   ]
  },
  {
   "cell_type": "code",
   "execution_count": 11,
   "metadata": {},
   "outputs": [
    {
     "name": "stdout",
     "output_type": "stream",
     "text": [
      "\n",
      "Top 3 catégories de produits par chiffre d'affaires moyen :\n",
      "Product line\n",
      "Home and lifestyle    336.636956\n",
      "Sports and travel     332.065220\n",
      "Health and beauty     323.643020\n",
      "Name: Total, dtype: float64\n"
     ]
    }
   ],
   "source": [
    "avg_sales_by_product = df.groupby('Product line')['Total'].mean().sort_values(ascending=False).head(3)\n",
    "print(\"\\nTop 3 catégories de produits par chiffre d'affaires moyen :\")\n",
    "print(avg_sales_by_product)"
   ]
  },
  {
   "cell_type": "code",
   "execution_count": 12,
   "metadata": {},
   "outputs": [
    {
     "name": "stdout",
     "output_type": "stream",
     "text": [
      "\n",
      "Pourcentage des ventes totales par genre :\n",
      "Gender\n",
      "Female    51.981489\n",
      "Male      48.018511\n",
      "Name: Total, dtype: float64\n"
     ]
    }
   ],
   "source": [
    "sales_by_gender = df.groupby('Gender')['Total'].sum()\n",
    "sales_percentage = (sales_by_gender / sales_by_gender.sum()) * 100\n",
    "print(\"\\nPourcentage des ventes totales par genre :\")\n",
    "print(sales_percentage)"
   ]
  },
  {
   "cell_type": "code",
   "execution_count": 13,
   "metadata": {},
   "outputs": [
    {
     "name": "stdout",
     "output_type": "stream",
     "text": [
      "\n",
      "Top 5 factures avec le montant total le plus élevé :\n",
      "      Invoice ID    Total\n",
      "350  860-79-0874  1042.65\n",
      "167  687-47-8271  1039.29\n",
      "557  283-26-5248  1034.46\n",
      "699  751-41-9720  1023.75\n",
      "996  303-96-2227  1022.49\n"
     ]
    }
   ],
   "source": [
    "top_invoices = df.nlargest(5, 'Total')[['Invoice ID', 'Total']]\n",
    "print(\"\\nTop 5 factures avec le montant total le plus élevé :\")\n",
    "print(top_invoices)\n"
   ]
  }
 ],
 "metadata": {
  "kernelspec": {
   "display_name": "Python 3",
   "language": "python",
   "name": "python3"
  },
  "language_info": {
   "codemirror_mode": {
    "name": "ipython",
    "version": 3
   },
   "file_extension": ".py",
   "mimetype": "text/x-python",
   "name": "python",
   "nbconvert_exporter": "python",
   "pygments_lexer": "ipython3",
   "version": "3.13.0"
  }
 },
 "nbformat": 4,
 "nbformat_minor": 2
}
