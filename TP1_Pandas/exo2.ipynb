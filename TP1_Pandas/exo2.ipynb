{
 "cells": [
  {
   "cell_type": "code",
   "execution_count": 2,
   "metadata": {},
   "outputs": [
    {
     "name": "stdout",
     "output_type": "stream",
     "text": [
      "Résumé statistique :\n",
      "       math score  reading score  writing score\n",
      "count  1000.00000    1000.000000    1000.000000\n",
      "mean     66.08900      69.169000      68.054000\n",
      "std      15.16308      14.600192      15.195657\n",
      "min       0.00000      17.000000      10.000000\n",
      "25%      57.00000      59.000000      57.750000\n",
      "50%      66.00000      70.000000      69.000000\n",
      "75%      77.00000      79.000000      79.000000\n",
      "max     100.00000     100.000000     100.000000\n"
     ]
    }
   ],
   "source": [
    "import pandas as pd\n",
    "\n",
    "file_path = \"StudentsPerformance.csv\"\n",
    "df = pd.read_csv(file_path)\n",
    "\n",
    "print(\"Résumé statistique :\")\n",
    "print(df.describe())"
   ]
  },
  {
   "cell_type": "code",
   "execution_count": 7,
   "metadata": {},
   "outputs": [
    {
     "name": "stdout",
     "output_type": "stream",
     "text": [
      "Nombre d'élèves par genre :\n",
      "gender\n",
      "female    518\n",
      "male      482\n",
      "Name: count, dtype: int64\n"
     ]
    }
   ],
   "source": [
    "# 1. Afficher le nombre d'élèves par genre\n",
    "students_by_gender = df['gender'].value_counts()\n",
    "print(\"Nombre d'élèves par genre :\")\n",
    "print(students_by_gender)"
   ]
  },
  {
   "cell_type": "code",
   "execution_count": 6,
   "metadata": {},
   "outputs": [
    {
     "name": "stdout",
     "output_type": "stream",
     "text": [
      "\n",
      "Scores moyens selon le niveau d'éducation des parents :\n",
      "                             math score  reading score  writing score\n",
      "parental level of education                                          \n",
      "associate's degree            67.882883      70.927928      69.896396\n",
      "bachelor's degree             69.389831      73.000000      73.381356\n",
      "high school                   62.137755      64.704082      62.448980\n",
      "master's degree               69.745763      75.372881      75.677966\n",
      "some college                  67.128319      69.460177      68.840708\n",
      "some high school              63.497207      66.938547      64.888268\n"
     ]
    }
   ],
   "source": [
    "# 2. Comparer les scores moyens selon le niveau d'éducation des parents\n",
    "average_scores_by_education = df.groupby('parental level of education')[['math score', 'reading score', 'writing score']].mean()\n",
    "print(\"\\nScores moyens selon le niveau d'éducation des parents :\")\n",
    "print(average_scores_by_education)"
   ]
  },
  {
   "cell_type": "code",
   "execution_count": 5,
   "metadata": {},
   "outputs": [
    {
     "name": "stdout",
     "output_type": "stream",
     "text": [
      "\n",
      "Nombre d'élèves ayant obtenu un score parfait (100) dans au moins une matière : 23\n"
     ]
    }
   ],
   "source": [
    "# 3. Déterminer le nombre d'élèves ayant obtenu un score parfait (100) dans au moins une matière\n",
    "perfect_scores = df[(df['math score'] == 100) | (df['reading score'] == 100) | (df['writing score'] == 100)]\n",
    "number_of_perfect_scores = perfect_scores.shape[0]\n",
    "print(f\"\\nNombre d'élèves ayant obtenu un score parfait (100) dans au moins une matière : {number_of_perfect_scores}\")"
   ]
  },
  {
   "cell_type": "code",
   "execution_count": 4,
   "metadata": {},
   "outputs": [
    {
     "name": "stdout",
     "output_type": "stream",
     "text": [
      "\n",
      "Corrélation entre les scores des différentes matières :\n",
      "               math score  reading score  writing score\n",
      "math score       1.000000       0.817580       0.802642\n",
      "reading score    0.817580       1.000000       0.954598\n",
      "writing score    0.802642       0.954598       1.000000\n"
     ]
    }
   ],
   "source": [
    "# 4. Trouver la corrélation entre les scores des différentes matières\n",
    "correlation_matrix = df[['math score', 'reading score', 'writing score']].corr()\n",
    "print(\"\\nCorrélation entre les scores des différentes matières :\")\n",
    "print(correlation_matrix)\n"
   ]
  }
 ],
 "metadata": {
  "kernelspec": {
   "display_name": "Python 3",
   "language": "python",
   "name": "python3"
  },
  "language_info": {
   "codemirror_mode": {
    "name": "ipython",
    "version": 3
   },
   "file_extension": ".py",
   "mimetype": "text/x-python",
   "name": "python",
   "nbconvert_exporter": "python",
   "pygments_lexer": "ipython3",
   "version": "3.13.0"
  }
 },
 "nbformat": 4,
 "nbformat_minor": 2
}
