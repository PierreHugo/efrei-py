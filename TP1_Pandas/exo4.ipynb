{
 "cells": [
  {
   "cell_type": "code",
   "execution_count": 48,
   "metadata": {},
   "outputs": [],
   "source": [
    "import pandas as pd\n",
    "import numpy as np"
   ]
  },
  {
   "cell_type": "code",
   "execution_count": 49,
   "metadata": {},
   "outputs": [],
   "source": [
    "# 1. Charger le dataset hubble_data.csv\n",
    "df = pd.read_csv('hubble_data.csv')"
   ]
  },
  {
   "cell_type": "code",
   "execution_count": 50,
   "metadata": {},
   "outputs": [],
   "source": [
    "# 2. Renommer les colonnes distance et recession_velocity en dist et rec_vel\n",
    "df.rename(columns={'distance': 'dist', 'recession_velocity': 'rec_vel'}, inplace=True)"
   ]
  },
  {
   "cell_type": "code",
   "execution_count": 51,
   "metadata": {},
   "outputs": [],
   "source": [
    "# 3. Charger hubble_data_no_headers.csv avec les colonnes dist et rec_vel\n",
    "df_no_headers = pd.read_csv('hubble_data_no_headers.csv', header=None, names=['dist', 'rec_vel'])"
   ]
  },
  {
   "cell_type": "code",
   "execution_count": 52,
   "metadata": {},
   "outputs": [
    {
     "name": "stdout",
     "output_type": "stream",
     "text": [
      "\n",
      "Informations sur hubble_data.csv :\n",
      "<class 'pandas.core.frame.DataFrame'>\n",
      "RangeIndex: 24 entries, 0 to 23\n",
      "Data columns (total 2 columns):\n",
      " #   Column   Non-Null Count  Dtype  \n",
      "---  ------   --------------  -----  \n",
      " 0   dist     24 non-null     float64\n",
      " 1   rec_vel  24 non-null     int64  \n",
      "dtypes: float64(1), int64(1)\n",
      "memory usage: 516.0 bytes\n",
      "None\n",
      "\n",
      "Informations sur hubble_data_no_headers.csv :\n",
      "<class 'pandas.core.frame.DataFrame'>\n",
      "RangeIndex: 24 entries, 0 to 23\n",
      "Data columns (total 2 columns):\n",
      " #   Column   Non-Null Count  Dtype  \n",
      "---  ------   --------------  -----  \n",
      " 0   dist     24 non-null     float64\n",
      " 1   rec_vel  24 non-null     int64  \n",
      "dtypes: float64(1), int64(1)\n",
      "memory usage: 516.0 bytes\n",
      "None\n"
     ]
    }
   ],
   "source": [
    "# 4. Afficher les informations sur les données\n",
    "print(\"\\nInformations sur hubble_data.csv :\")\n",
    "print(df.info())\n",
    "print(\"\\nInformations sur hubble_data_no_headers.csv :\")\n",
    "print(df_no_headers.info())"
   ]
  },
  {
   "cell_type": "code",
   "execution_count": 53,
   "metadata": {},
   "outputs": [
    {
     "name": "stdout",
     "output_type": "stream",
     "text": [
      "\n",
      "Dernières valeurs de la colonne dist :\n",
      "19    1.7\n",
      "20    2.0\n",
      "21    2.0\n",
      "22    2.0\n",
      "23    2.0\n",
      "Name: dist, dtype: float64\n"
     ]
    }
   ],
   "source": [
    "# 5. Sélectionner la colonne dist en utilisant la fonction tail()\n",
    "print(\"\\nDernières valeurs de la colonne dist :\")\n",
    "print(df['dist'].tail())"
   ]
  },
  {
   "cell_type": "code",
   "execution_count": 54,
   "metadata": {},
   "outputs": [
    {
     "name": "stdout",
     "output_type": "stream",
     "text": [
      "\n",
      "Premières valeurs de la colonne dist (méthode 1) :\n",
      "0    0.032\n",
      "1    0.034\n",
      "2    0.214\n",
      "3    0.263\n",
      "4    0.275\n",
      "Name: dist, dtype: float64\n",
      "\n",
      "Premières valeurs de la colonne dist (méthode 2) :\n",
      "0    0.032\n",
      "1    0.034\n",
      "2    0.214\n",
      "3    0.263\n",
      "4    0.275\n",
      "Name: dist, dtype: float64\n"
     ]
    }
   ],
   "source": [
    "# 6. Afficher les 5 premières lignes de la colonne dist de deux manières différentes\n",
    "print(\"\\nPremières valeurs de la colonne dist (méthode 1) :\")\n",
    "print(df['dist'].head())\n",
    "print(\"\\nPremières valeurs de la colonne dist (méthode 2) :\")\n",
    "print(df.dist.head())"
   ]
  },
  {
   "cell_type": "code",
   "execution_count": 55,
   "metadata": {},
   "outputs": [
    {
     "name": "stdout",
     "output_type": "stream",
     "text": [
      "\n",
      "Colonne énergie calculée :\n",
      "0    14453.2\n",
      "1    42053.4\n",
      "2     8471.4\n",
      "3     2476.3\n",
      "4    17140.0\n",
      "Name: energie, dtype: float64\n"
     ]
    }
   ],
   "source": [
    "# 7. Calculer l’énergie avec la formule donnée\n",
    "K = 100\n",
    "df['energie'] = K * df['dist'] + 0.5 * (df['rec_vel'] ** 2)\n",
    "print(\"\\nColonne énergie calculée :\")\n",
    "print(df['energie'].head())"
   ]
  },
  {
   "cell_type": "code",
   "execution_count": 56,
   "metadata": {},
   "outputs": [],
   "source": [
    "# 8. Ajouter une colonne dist2 contenant la colonne dist au carré\n",
    "df['dist2'] = df['dist'] ** 2"
   ]
  },
  {
   "cell_type": "code",
   "execution_count": 57,
   "metadata": {},
   "outputs": [
    {
     "name": "stdout",
     "output_type": "stream",
     "text": [
      "<class 'pandas.core.frame.DataFrame'>\n"
     ]
    }
   ],
   "source": [
    "# 9. Supprimer la colonne dist2\n",
    "print(type(df))\n",
    "df.drop(columns=['dist2'], inplace=True)"
   ]
  },
  {
   "cell_type": "code",
   "execution_count": 58,
   "metadata": {},
   "outputs": [
    {
     "name": "stdout",
     "output_type": "stream",
     "text": [
      "\n",
      "Vérification après suppression de la deuxième ligne :\n",
      "    dist  rec_vel  energie\n",
      "0  0.032      170  14453.2\n",
      "2  0.214     -130   8471.4\n",
      "3  0.263      -70   2476.3\n",
      "4  0.275     -185  17140.0\n",
      "5  0.275     -220  24227.5\n"
     ]
    }
   ],
   "source": [
    "# 10. Supprimer la deuxième ligne du dataset et vérifier si elle a été supprimée\n",
    "df.drop(index=1, inplace=True)  # Index de la deuxième ligne = 1 (attention au paramètre inplace)\n",
    "print(\"\\nVérification après suppression de la deuxième ligne :\")\n",
    "print(df.head())"
   ]
  },
  {
   "cell_type": "code",
   "execution_count": 59,
   "metadata": {},
   "outputs": [],
   "source": [
    "# 11. Modifier la colonne dist pour qu’elle représente l’index du dataset\n",
    "df.set_index('dist', inplace=True)"
   ]
  },
  {
   "cell_type": "code",
   "execution_count": 60,
   "metadata": {},
   "outputs": [
    {
     "name": "stdout",
     "output_type": "stream",
     "text": [
      "\n",
      "Type de la colonne énergie : float64\n",
      "Moyenne de la colonne énergie : 139819.40869565218\n",
      "Médiane de la colonne énergie : 45080.0\n"
     ]
    }
   ],
   "source": [
    "# 12. Afficher le type puis calculer la moyenne et la médiane de la colonne énergie\n",
    "print(\"\\nType de la colonne énergie :\", df['energie'].dtype)\n",
    "print(\"Moyenne de la colonne énergie :\", df['energie'].mean())\n",
    "print(\"Médiane de la colonne énergie :\", df['energie'].median())"
   ]
  },
  {
   "cell_type": "code",
   "execution_count": 61,
   "metadata": {},
   "outputs": [
    {
     "name": "stdout",
     "output_type": "stream",
     "text": [
      "\n",
      "Statistiques de la colonne énergie :\n",
      "count        23.000000\n",
      "mean     139819.408696\n",
      "std      172304.809385\n",
      "min         540.000000\n",
      "25%       18592.500000\n",
      "50%       45080.000000\n",
      "75%      168270.000000\n",
      "max      594250.000000\n",
      "Name: energie, dtype: float64\n"
     ]
    }
   ],
   "source": [
    "# 13. Afficher les caractéristiques statistiques de la colonne énergie\n",
    "print(\"\\nStatistiques de la colonne énergie :\")\n",
    "print(df['energie'].describe())"
   ]
  },
  {
   "cell_type": "code",
   "execution_count": 62,
   "metadata": {},
   "outputs": [
    {
     "name": "stdout",
     "output_type": "stream",
     "text": [
      "\n",
      "Matrice de covariance :\n",
      "              rec_vel       energie\n",
      "rec_vel  1.437673e+05  5.921754e+07\n",
      "energie  5.921754e+07  2.968895e+10\n"
     ]
    }
   ],
   "source": [
    "# 14. Calculer et afficher la matrice de covariance des données\n",
    "print(\"\\nMatrice de covariance :\")\n",
    "print(df.cov())"
   ]
  },
  {
   "cell_type": "code",
   "execution_count": 63,
   "metadata": {},
   "outputs": [
    {
     "name": "stdout",
     "output_type": "stream",
     "text": [
      "\n",
      "Valeur de la covariance (méthode 1) : 143767.2924901186\n",
      "Valeur de la covariance (méthode 2) : 29688947337.095383\n"
     ]
    }
   ],
   "source": [
    "# 15. Afficher la valeur 194.3740 de la matrice de deux manières différentes\n",
    "cov_matrix = df.cov()\n",
    "value = cov_matrix.loc['rec_vel', 'rec_vel']  # Méthode 1\n",
    "print(\"\\nValeur de la covariance (méthode 1) :\", value)\n",
    "value2 = cov_matrix.iloc[1, 1]  # Méthode 2 (ligne 1, colonne 1)\n",
    "print(\"Valeur de la covariance (méthode 2) :\", value2)"
   ]
  },
  {
   "cell_type": "code",
   "execution_count": 64,
   "metadata": {},
   "outputs": [],
   "source": [
    "# 16. Mettre à jour les valeurs de E = 1620 pour dist = 2.0\n",
    "df.loc[2.0, 'energie'] = 1620"
   ]
  },
  {
   "cell_type": "code",
   "execution_count": 65,
   "metadata": {},
   "outputs": [
    {
     "name": "stdout",
     "output_type": "stream",
     "text": [
      "\n",
      "Dataset final :\n",
      "       rec_vel  energie\n",
      "dist                   \n",
      "0.032      170  14453.2\n",
      "0.214     -130   8471.4\n",
      "0.263      -70   2476.3\n",
      "0.275     -185  17140.0\n",
      "0.275     -220  24227.5\n"
     ]
    }
   ],
   "source": [
    "# 17. Mettre à jour les valeurs de E = 1800 pour dist = 2.0 en utilisant .at\n",
    "df.at[2.0, 'energie'] = 1800\n",
    "\n",
    "print(\"\\nDataset final :\")\n",
    "print(df.head())"
   ]
  }
 ],
 "metadata": {
  "kernelspec": {
   "display_name": "Python 3",
   "language": "python",
   "name": "python3"
  },
  "language_info": {
   "codemirror_mode": {
    "name": "ipython",
    "version": 3
   },
   "file_extension": ".py",
   "mimetype": "text/x-python",
   "name": "python",
   "nbconvert_exporter": "python",
   "pygments_lexer": "ipython3",
   "version": "3.13.0"
  }
 },
 "nbformat": 4,
 "nbformat_minor": 2
}
