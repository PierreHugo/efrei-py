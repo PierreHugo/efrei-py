{
 "cells": [
  {
   "cell_type": "code",
   "execution_count": 6,
   "metadata": {},
   "outputs": [
    {
     "name": "stdout",
     "output_type": "stream",
     "text": [
      "Temps de calcul SANS numpy :  0.36543790000723675\n"
     ]
    }
   ],
   "source": [
    "import time\n",
    "\n",
    "limite=range(1000001)\n",
    "\n",
    "S = 0\n",
    "\n",
    "t1 = time.perf_counter()\n",
    "for i in limite:\n",
    "    S+=i\n",
    "\n",
    "t2 = time.perf_counter()\n",
    "\n",
    "temps_total_1 = t2-t1\n",
    "\n",
    "print(\"Temps de calcul SANS numpy : \",temps_total_1)\n",
    "\n",
    "\n"
   ]
  },
  {
   "cell_type": "code",
   "execution_count": 7,
   "metadata": {},
   "outputs": [
    {
     "name": "stdout",
     "output_type": "stream",
     "text": [
      "Temps de calcul AVEC numpy :  0.0015175999724306166\n"
     ]
    }
   ],
   "source": [
    "import numpy as np\n",
    "\n",
    "v = np.array(range(1000001))\n",
    "\n",
    "t1 = time.perf_counter()\n",
    "\n",
    "S=v.sum()\n",
    "\n",
    "t2 = time.perf_counter()\n",
    "\n",
    "temps_total_1 = t2-t1\n",
    "\n",
    "print(\"Temps de calcul AVEC numpy : \",temps_total_1)\n"
   ]
  }
 ],
 "metadata": {
  "kernelspec": {
   "display_name": "Python 3",
   "language": "python",
   "name": "python3"
  },
  "language_info": {
   "codemirror_mode": {
    "name": "ipython",
    "version": 3
   },
   "file_extension": ".py",
   "mimetype": "text/x-python",
   "name": "python",
   "nbconvert_exporter": "python",
   "pygments_lexer": "ipython3",
   "version": "3.13.0"
  }
 },
 "nbformat": 4,
 "nbformat_minor": 2
}
