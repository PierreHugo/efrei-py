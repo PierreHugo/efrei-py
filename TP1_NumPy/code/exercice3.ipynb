{
 "cells": [
  {
   "cell_type": "code",
   "execution_count": 25,
   "metadata": {},
   "outputs": [],
   "source": [
    "import numpy as np\n",
    "\n",
    "def find_nearest(arr, x):\n",
    "    valeur = np.abs(arr - x).argmin()\n",
    "    return arr[valeur]"
   ]
  },
  {
   "cell_type": "code",
   "execution_count": 23,
   "metadata": {},
   "outputs": [
    {
     "name": "stdout",
     "output_type": "stream",
     "text": [
      "[60 93 86 13 48 15 12 33 13 13]\n",
      "48\n"
     ]
    }
   ],
   "source": [
    "tableau = np.random.randint(1, 101, size=10)\n",
    "print(tableau)\n",
    "\n",
    "print(find_nearest(tableau,50))"
   ]
  }
 ],
 "metadata": {
  "kernelspec": {
   "display_name": "Python 3",
   "language": "python",
   "name": "python3"
  },
  "language_info": {
   "codemirror_mode": {
    "name": "ipython",
    "version": 3
   },
   "file_extension": ".py",
   "mimetype": "text/x-python",
   "name": "python",
   "nbconvert_exporter": "python",
   "pygments_lexer": "ipython3",
   "version": "3.13.0"
  }
 },
 "nbformat": 4,
 "nbformat_minor": 2
}
