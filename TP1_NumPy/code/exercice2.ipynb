{
 "cells": [
  {
   "cell_type": "code",
   "execution_count": 1,
   "metadata": {},
   "outputs": [],
   "source": [
    "import numpy as np"
   ]
  },
  {
   "cell_type": "code",
   "execution_count": 4,
   "metadata": {},
   "outputs": [
    {
     "name": "stdout",
     "output_type": "stream",
     "text": [
      "[[16 15 17]\n",
      " [15 14 20]\n",
      " [ 3  6 20]]\n"
     ]
    }
   ],
   "source": [
    "# 1\n",
    "tableau = np.random.randint(1, 21, (3, 3))\n",
    "print(tableau)"
   ]
  },
  {
   "cell_type": "code",
   "execution_count": 5,
   "metadata": {},
   "outputs": [
    {
     "name": "stdout",
     "output_type": "stream",
     "text": [
      "3 20\n"
     ]
    }
   ],
   "source": [
    "# 2\n",
    "min_value = tableau.min()\n",
    "max_value = tableau.max()\n",
    "print(min_value,max_value)"
   ]
  },
  {
   "cell_type": "code",
   "execution_count": 6,
   "metadata": {},
   "outputs": [
    {
     "name": "stdout",
     "output_type": "stream",
     "text": [
      "[[0.76470588 0.70588235 0.82352941]\n",
      " [0.70588235 0.64705882 1.        ]\n",
      " [0.         0.17647059 1.        ]]\n"
     ]
    }
   ],
   "source": [
    "# 3\n",
    "normalized_array = (tableau - min_value) / (max_value - min_value)\n",
    "print(normalized_array)"
   ]
  },
  {
   "cell_type": "code",
   "execution_count": 8,
   "metadata": {},
   "outputs": [
    {
     "name": "stdout",
     "output_type": "stream",
     "text": [
      "14.0 30.22222222222222 5.497474167490214\n"
     ]
    }
   ],
   "source": [
    "# 4\n",
    "mean_value = tableau.mean()\n",
    "variance_value = tableau.var()\n",
    "std_dev_value = tableau.std()\n",
    "\n",
    "print(mean_value,variance_value,std_dev_value)"
   ]
  },
  {
   "cell_type": "code",
   "execution_count": 11,
   "metadata": {},
   "outputs": [
    {
     "name": "stdout",
     "output_type": "stream",
     "text": [
      "[[ 16 225 289]\n",
      " [225  14  20]\n",
      " [  9   6  20]]\n"
     ]
    }
   ],
   "source": [
    "# 5\n",
    "tableau_carre = np.where(tableau % 2 != 0, tableau**2, tableau)\n",
    "print(tableau_carre)"
   ]
  },
  {
   "cell_type": "code",
   "execution_count": 14,
   "metadata": {},
   "outputs": [
    {
     "name": "stdout",
     "output_type": "stream",
     "text": [
      "[[ True  True  True]\n",
      " [ True  True  True]\n",
      " [False False  True]]\n"
     ]
    }
   ],
   "source": [
    "# 6\n",
    "mask = tableau > 10\n",
    "print(mask)"
   ]
  }
 ],
 "metadata": {
  "kernelspec": {
   "display_name": "Python 3",
   "language": "python",
   "name": "python3"
  },
  "language_info": {
   "codemirror_mode": {
    "name": "ipython",
    "version": 3
   },
   "file_extension": ".py",
   "mimetype": "text/x-python",
   "name": "python",
   "nbconvert_exporter": "python",
   "pygments_lexer": "ipython3",
   "version": "3.13.0"
  }
 },
 "nbformat": 4,
 "nbformat_minor": 2
}
