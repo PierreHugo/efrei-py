{
 "cells": [
  {
   "cell_type": "code",
   "execution_count": 1,
   "metadata": {},
   "outputs": [],
   "source": [
    "import numpy as np"
   ]
  },
  {
   "cell_type": "code",
   "execution_count": 5,
   "metadata": {},
   "outputs": [],
   "source": [
    "def correlation_matrix (data):\n",
    "    n = data.shape[1]\n",
    "    corr_matrix = np.empty((n,n))\n",
    "\n",
    "    for i in range(n):\n",
    "        for j in range (n):\n",
    "            mean_i = np.mean(data[:,i])\n",
    "            mean_j = np.mean(data[:,j])\n",
    "            std_i = np.std(data[:,i])\n",
    "            std_j = np.std(data[:,j])\n",
    "            corr_matrix[i,j] = np.mean((data[:,i] - mean_i) * (data[:,j] - mean_j)) / (std_i * std_j)\n",
    "\n",
    "    return corr_matrix"
   ]
  },
  {
   "cell_type": "code",
   "execution_count": 6,
   "metadata": {},
   "outputs": [
    {
     "name": "stdout",
     "output_type": "stream",
     "text": [
      "matrice de correlation [[1. 1. 1.]\n",
      " [1. 1. 1.]\n",
      " [1. 1. 1.]]\n"
     ]
    }
   ],
   "source": [
    "data = np.array([[1,2,3],[4,5,6],[7,8,9]])\n",
    "print(\"matrice de correlation\",correlation_matrix(data))"
   ]
  }
 ],
 "metadata": {
  "kernelspec": {
   "display_name": "Python 3",
   "language": "python",
   "name": "python3"
  },
  "language_info": {
   "codemirror_mode": {
    "name": "ipython",
    "version": 3
   },
   "file_extension": ".py",
   "mimetype": "text/x-python",
   "name": "python",
   "nbconvert_exporter": "python",
   "pygments_lexer": "ipython3",
   "version": "3.13.0"
  }
 },
 "nbformat": 4,
 "nbformat_minor": 2
}
