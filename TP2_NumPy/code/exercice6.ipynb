{
 "cells": [
  {
   "cell_type": "code",
   "execution_count": 3,
   "metadata": {},
   "outputs": [],
   "source": [
    "import numpy as np"
   ]
  },
  {
   "cell_type": "code",
   "execution_count": 7,
   "metadata": {},
   "outputs": [
    {
     "name": "stdout",
     "output_type": "stream",
     "text": [
      "Les statistiques ont été calculées et enregistrées dans 'statistiques.csv'.\n"
     ]
    }
   ],
   "source": [
    "def calculer_statistiques(fichier_entree, fichier_sortie):\n",
    "    \n",
    "    data = np.genfromtxt(fichier_entree, delimiter=',', names=True)\n",
    "    noms_colonnes = data.dtype.names\n",
    "    \n",
    "    statistiques = []\n",
    "    for nom in noms_colonnes:\n",
    "        colonne = data[nom]\n",
    "        moyenne = np.mean(colonne)\n",
    "        ecart_type = np.std(colonne)\n",
    "        minimum = np.min(colonne)\n",
    "        maximum = np.max(colonne)\n",
    "        \n",
    "        statistiques.append([nom, f\"{moyenne:.2f}\", f\"{ecart_type:.2f}\", f\"{minimum:.2f}\", f\"{maximum:.2f}\"])\n",
    "\n",
    "    header = \"colonne,moyenne,ecart_type,min,max\"\n",
    "    np.savetxt(fichier_sortie, statistiques, delimiter=',', header=header, fmt=\"%s\", comments='')\n",
    "\n",
    "calculer_statistiques(\"data.csv\", \"statistiques.csv\")\n",
    "print(\"Les statistiques ont été calculées et enregistrées dans 'statistiques.csv'.\")\n"
   ]
  },
  {
   "cell_type": "code",
   "execution_count": null,
   "metadata": {},
   "outputs": [],
   "source": []
  }
 ],
 "metadata": {
  "kernelspec": {
   "display_name": "Python 3",
   "language": "python",
   "name": "python3"
  },
  "language_info": {
   "codemirror_mode": {
    "name": "ipython",
    "version": 3
   },
   "file_extension": ".py",
   "mimetype": "text/x-python",
   "name": "python",
   "nbconvert_exporter": "python",
   "pygments_lexer": "ipython3",
   "version": "3.13.0"
  }
 },
 "nbformat": 4,
 "nbformat_minor": 2
}
