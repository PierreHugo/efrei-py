{
 "cells": [
  {
   "cell_type": "code",
   "execution_count": 4,
   "metadata": {},
   "outputs": [],
   "source": [
    "import numpy as np"
   ]
  },
  {
   "cell_type": "code",
   "execution_count": 10,
   "metadata": {},
   "outputs": [
    {
     "name": "stdout",
     "output_type": "stream",
     "text": [
      "Données du fichier temperatures.csv :\n",
      "[[ 1.  12.5]\n",
      " [ 2.  13. ]\n",
      " [ 3.  14.5]\n",
      " [ 4.  11. ]\n",
      " [ 5.  15. ]\n",
      " [ 6.  17.5]\n",
      " [ 7.  19. ]\n",
      " [ 8.  20. ]\n",
      " [ 9.  21.5]\n",
      " [10.  22. ]\n",
      " [11.  18.5]\n",
      " [12.  19. ]\n",
      " [13.  16.5]\n",
      " [14.  17. ]\n",
      " [15.  15.5]\n",
      " [16.  16. ]\n",
      " [17.  14. ]\n",
      " [18.  13.5]\n",
      " [19.  12. ]\n",
      " [20.  13. ]\n",
      " [21.  14.5]\n",
      " [22.  15. ]\n",
      " [23.  16.5]\n",
      " [24.  17. ]\n",
      " [25.  18. ]\n",
      " [26.  19.5]\n",
      " [27.  20.5]\n",
      " [28.  21. ]\n",
      " [29.  22.5]\n",
      " [30.  23. ]]\n"
     ]
    }
   ],
   "source": [
    "# 2\n",
    "\n",
    "data = np.loadtxt(\"temperatures.csv\", delimiter=',', skiprows=1)\n",
    "print(\"Données du fichier temperatures.csv :\")\n",
    "print(data)"
   ]
  },
  {
   "cell_type": "code",
   "execution_count": 13,
   "metadata": {},
   "outputs": [
    {
     "name": "stdout",
     "output_type": "stream",
     "text": [
      "Jours: [ 1.  2.  3.  4.  5.  6.  7.  8.  9. 10. 11. 12. 13. 14. 15. 16. 17. 18.\n",
      " 19. 20. 21. 22. 23. 24. 25. 26. 27. 28. 29. 30.]\n",
      "Températures: [12.5 13.  14.5 11.  15.  17.5 19.  20.  21.5 22.  18.5 19.  16.5 17.\n",
      " 15.5 16.  14.  13.5 12.  13.  14.5 15.  16.5 17.  18.  19.5 20.5 21.\n",
      " 22.5 23. ]\n"
     ]
    }
   ],
   "source": [
    "# 3 \n",
    "\n",
    "jours = data[:, 0]   \n",
    "temperatures = data[:, 1] \n",
    "\n",
    "print(\"Jours:\", jours)\n",
    "print(\"Températures:\", temperatures)"
   ]
  },
  {
   "cell_type": "code",
   "execution_count": 16,
   "metadata": {},
   "outputs": [
    {
     "name": "stdout",
     "output_type": "stream",
     "text": [
      "température moyenne :  16.95\n",
      "température max :  23.0\n",
      "température min :  11.0\n"
     ]
    }
   ],
   "source": [
    "# 4\n",
    "temperature_moyenne = np.mean(temperatures)\n",
    "temperature_max = np.max(temperatures)\n",
    "temperature_min = np.min(temperatures)\n",
    "\n",
    "print(\"température moyenne : \",temperature_moyenne)\n",
    "print(\"température max : \",temperature_max)\n",
    "print(\"température min : \",temperature_min)"
   ]
  },
  {
   "cell_type": "code",
   "execution_count": 17,
   "metadata": {},
   "outputs": [
    {
     "name": "stdout",
     "output_type": "stream",
     "text": [
      "Jour(s) avec la température maximale : [30.]\n"
     ]
    }
   ],
   "source": [
    "# 5\n",
    "\n",
    "jours_max = jours[temperatures == temperature_max]\n",
    "print(\"Jour(s) avec la température maximale :\", jours_max)"
   ]
  },
  {
   "cell_type": "code",
   "execution_count": null,
   "metadata": {},
   "outputs": [],
   "source": []
  }
 ],
 "metadata": {
  "kernelspec": {
   "display_name": "Python 3",
   "language": "python",
   "name": "python3"
  },
  "language_info": {
   "codemirror_mode": {
    "name": "ipython",
    "version": 3
   },
   "file_extension": ".py",
   "mimetype": "text/x-python",
   "name": "python",
   "nbconvert_exporter": "python",
   "pygments_lexer": "ipython3",
   "version": "3.13.0"
  }
 },
 "nbformat": 4,
 "nbformat_minor": 2
}
