{
 "cells": [
  {
   "cell_type": "code",
   "execution_count": 7,
   "metadata": {},
   "outputs": [],
   "source": [
    "import numpy as np"
   ]
  },
  {
   "cell_type": "code",
   "execution_count": null,
   "metadata": {},
   "outputs": [
    {
     "name": "stdout",
     "output_type": "stream",
     "text": [
      "[('Alice', 15, 14, 16) ('Bob', 12, 15, 13) ('Charlie', 13, 17, 19)\n",
      " ('David', 10, 11, 12) ('Eve', 19, 18, 17)]\n"
     ]
    }
   ],
   "source": [
    "# 2\n",
    "\n",
    "data = np.genfromtxt('etudiants.csv', delimiter=',', dtype=None, encoding='utf-8', names=True)\n",
    "print(data)"
   ]
  },
  {
   "cell_type": "code",
   "execution_count": 11,
   "metadata": {},
   "outputs": [
    {
     "name": "stdout",
     "output_type": "stream",
     "text": [
      "Moyenne des notes par matière: [13.8 15.  15.4]\n"
     ]
    }
   ],
   "source": [
    "# 3 \n",
    "\n",
    "notes = np.array([list(row)[1:] for row in data])\n",
    "moyennes_matieres = notes.mean(axis=0)\n",
    "\n",
    "print(\"Moyenne des notes par matière:\", moyennes_matieres)"
   ]
  },
  {
   "cell_type": "code",
   "execution_count": 14,
   "metadata": {},
   "outputs": [
    {
     "name": "stdout",
     "output_type": "stream",
     "text": [
      "Nom de l'étudiant avec la meilleure moyenne: Eve\n"
     ]
    }
   ],
   "source": [
    "# 4\n",
    "\n",
    "moyennes_etudiants = notes.mean(axis=1)\n",
    "index_meilleure_moyenne = np.argmax(moyennes_etudiants)\n",
    "nom_meilleur_etudiant = data[index_meilleure_moyenne][0]\n",
    "\n",
    "print(\"Nom de l'étudiant avec la meilleure moyenne:\", nom_meilleur_etudiant)"
   ]
  },
  {
   "cell_type": "code",
   "execution_count": null,
   "metadata": {},
   "outputs": [],
   "source": []
  }
 ],
 "metadata": {
  "kernelspec": {
   "display_name": "Python 3",
   "language": "python",
   "name": "python3"
  },
  "language_info": {
   "codemirror_mode": {
    "name": "ipython",
    "version": 3
   },
   "file_extension": ".py",
   "mimetype": "text/x-python",
   "name": "python",
   "nbconvert_exporter": "python",
   "pygments_lexer": "ipython3",
   "version": "3.13.0"
  }
 },
 "nbformat": 4,
 "nbformat_minor": 2
}
