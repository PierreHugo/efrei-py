{
 "cells": [
  {
   "cell_type": "code",
   "execution_count": 1,
   "metadata": {},
   "outputs": [],
   "source": [
    "import numpy as np"
   ]
  },
  {
   "cell_type": "code",
   "execution_count": 4,
   "metadata": {},
   "outputs": [
    {
     "name": "stdout",
     "output_type": "stream",
     "text": [
      "[2014. 2015. 2016. 2017. 2018. 2019. 2020. 2021. 2022. 2023.]\n",
      "[  5.  51.  52.  54.  55.  56. 575.  59.   6.  62.]\n"
     ]
    }
   ],
   "source": [
    "# 2\n",
    "\n",
    "data = np.loadtxt(\"population.csv\", delimiter=',', skiprows=1)\n",
    "\n",
    "annees = data[:, 0]\n",
    "populations = data[:, 1]\n",
    "\n",
    "print(annees)\n",
    "print(populations)\n"
   ]
  },
  {
   "cell_type": "code",
   "execution_count": 8,
   "metadata": {},
   "outputs": [
    {
     "name": "stdout",
     "output_type": "stream",
     "text": [
      "\n",
      "Augmentation de la population d'une année sur l'autre :\n",
      "De 2014 à 2015 : 46.0 habitants\n",
      "De 2015 à 2016 : 1.0 habitants\n",
      "De 2016 à 2017 : 2.0 habitants\n",
      "De 2017 à 2018 : 1.0 habitants\n",
      "De 2018 à 2019 : 1.0 habitants\n",
      "De 2019 à 2020 : 519.0 habitants\n",
      "De 2020 à 2021 : -516.0 habitants\n",
      "De 2021 à 2022 : -53.0 habitants\n",
      "De 2022 à 2023 : 56.0 habitants\n"
     ]
    }
   ],
   "source": [
    "# 3\n",
    "\n",
    "augmentation_population = np.diff(populations)\n",
    "\n",
    "print(\"\\nAugmentation de la population d'une année sur l'autre :\")\n",
    "for i in range(len(augmentation_population)):\n",
    "    print(f\"De {int(annees[i])} à {int(annees[i+1])} : {augmentation_population[i]} habitants\")"
   ]
  },
  {
   "cell_type": "code",
   "execution_count": 9,
   "metadata": {},
   "outputs": [
    {
     "name": "stdout",
     "output_type": "stream",
     "text": [
      "\n",
      "Année avec la plus forte croissance de population : 2020\n"
     ]
    }
   ],
   "source": [
    "# 4\n",
    "\n",
    "index_forte_croissance = np.argmax(augmentation_population)\n",
    "annee_forte_croissance = int(annees[index_forte_croissance + 1])\n",
    "print(\"\\nAnnée avec la plus forte croissance de population :\", annee_forte_croissance)"
   ]
  },
  {
   "cell_type": "code",
   "execution_count": null,
   "metadata": {},
   "outputs": [],
   "source": []
  }
 ],
 "metadata": {
  "kernelspec": {
   "display_name": "Python 3",
   "language": "python",
   "name": "python3"
  },
  "language_info": {
   "codemirror_mode": {
    "name": "ipython",
    "version": 3
   },
   "file_extension": ".py",
   "mimetype": "text/x-python",
   "name": "python",
   "nbconvert_exporter": "python",
   "pygments_lexer": "ipython3",
   "version": "3.13.0"
  }
 },
 "nbformat": 4,
 "nbformat_minor": 2
}
