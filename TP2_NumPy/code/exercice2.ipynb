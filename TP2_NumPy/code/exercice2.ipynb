{
 "cells": [
  {
   "cell_type": "code",
   "execution_count": 3,
   "metadata": {},
   "outputs": [],
   "source": [
    "import numpy as np"
   ]
  },
  {
   "cell_type": "code",
   "execution_count": 11,
   "metadata": {},
   "outputs": [],
   "source": [
    "produits = np.array([\n",
    "    [\"Nom\", \"Quantite\", \"Prix\"],\n",
    "    [\"Pomme\", 50, 0.5],\n",
    "    [\"Banane\", 100, 0.3],\n",
    "    [\"Orange\", 80, 0.7]\n",
    "], dtype=object)"
   ]
  },
  {
   "cell_type": "code",
   "execution_count": 13,
   "metadata": {},
   "outputs": [],
   "source": [
    "# 2\n",
    "\n",
    "np.savetxt(\"produits.csv\", produits, delimiter=\",\", fmt=\"%s\", encoding=\"utf-8\")"
   ]
  },
  {
   "cell_type": "code",
   "execution_count": 8,
   "metadata": {},
   "outputs": [
    {
     "name": "stdout",
     "output_type": "stream",
     "text": [
      "Données du fichier produits.csv :\n",
      "[['Nom' 'Quantité' 'Prix']\n",
      " ['Pomme' '50' '0.5']\n",
      " ['Banane' '100' '0.3']\n",
      " ['Orange' '80' '0.7']]\n"
     ]
    }
   ],
   "source": [
    "# 3\n",
    "\n",
    "verif_data = np.genfromtxt(\"produits.csv\", delimiter=\",\", dtype=None, encoding=\"utf-8\")\n",
    "print(\"Données du fichier produits.csv :\")\n",
    "print(verif_data)"
   ]
  }
 ],
 "metadata": {
  "kernelspec": {
   "display_name": "Python 3",
   "language": "python",
   "name": "python3"
  },
  "language_info": {
   "codemirror_mode": {
    "name": "ipython",
    "version": 3
   },
   "file_extension": ".py",
   "mimetype": "text/x-python",
   "name": "python",
   "nbconvert_exporter": "python",
   "pygments_lexer": "ipython3",
   "version": "3.13.0"
  }
 },
 "nbformat": 4,
 "nbformat_minor": 2
}
