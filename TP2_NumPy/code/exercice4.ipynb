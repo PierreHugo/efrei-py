{
 "cells": [
  {
   "cell_type": "code",
   "execution_count": 1,
   "metadata": {},
   "outputs": [],
   "source": [
    "import numpy as np"
   ]
  },
  {
   "cell_type": "code",
   "execution_count": 3,
   "metadata": {},
   "outputs": [
    {
     "name": "stdout",
     "output_type": "stream",
     "text": [
      "[('Produit A', 100, 15.99) ('Produit B', 200,  9.99)\n",
      " ('Produit C', 150, 12.49) ('Produit D', 120,  7.99)\n",
      " ('Produit E', 250, 19.99)]\n"
     ]
    }
   ],
   "source": [
    "# 2\n",
    "\n",
    "data = np.genfromtxt(\"ventes.csv\", delimiter=',', dtype=None, encoding='utf-8', names=True)\n",
    "print(data)"
   ]
  },
  {
   "cell_type": "code",
   "execution_count": 6,
   "metadata": {},
   "outputs": [
    {
     "name": "stdout",
     "output_type": "stream",
     "text": [
      "\n",
      "Ventes totales pour chaque produit :\n",
      "Produit A : 1599.0\n",
      "Produit B : 1998.0\n",
      "Produit C : 1873.5\n",
      "Produit D : 958.8000000000001\n",
      "Produit E : 4997.5\n"
     ]
    }
   ],
   "source": [
    "# 3\n",
    "\n",
    "ventes_totales = data['Quantite_vendue'] * data['Prix_unitaire']\n",
    "print(\"\\nVentes totales pour chaque produit :\")\n",
    "for produit, vente in zip(data['Produit'], ventes_totales):\n",
    "    print(f\"{produit} : {vente}\")"
   ]
  },
  {
   "cell_type": "code",
   "execution_count": 7,
   "metadata": {},
   "outputs": [
    {
     "name": "stdout",
     "output_type": "stream",
     "text": [
      "\n",
      "Produit best-seller :\n",
      "Produit E avec des ventes de 4997.5\n"
     ]
    }
   ],
   "source": [
    "# 4\n",
    "\n",
    "index_best_seller = np.argmax(ventes_totales)\n",
    "produit_best_seller = data['Produit'][index_best_seller]\n",
    "vente_best_seller = ventes_totales[index_best_seller]\n",
    "\n",
    "print(\"\\nProduit best-seller :\")\n",
    "print(f\"{produit_best_seller} avec des ventes de {vente_best_seller}\")"
   ]
  }
 ],
 "metadata": {
  "kernelspec": {
   "display_name": "Python 3",
   "language": "python",
   "name": "python3"
  },
  "language_info": {
   "codemirror_mode": {
    "name": "ipython",
    "version": 3
   },
   "file_extension": ".py",
   "mimetype": "text/x-python",
   "name": "python",
   "nbconvert_exporter": "python",
   "pygments_lexer": "ipython3",
   "version": "3.13.0"
  }
 },
 "nbformat": 4,
 "nbformat_minor": 2
}
